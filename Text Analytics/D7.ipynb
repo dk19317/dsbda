{
 "cells": [
  {
   "cell_type": "code",
   "execution_count": 2,
   "id": "5a5a83cc-f1de-4616-a4b7-fa47ac697b37",
   "metadata": {},
   "outputs": [],
   "source": [
    "import nltk"
   ]
  },
  {
   "cell_type": "code",
   "execution_count": 3,
   "id": "4c836196-c030-4630-9767-1e1f1d247c23",
   "metadata": {},
   "outputs": [
    {
     "name": "stderr",
     "output_type": "stream",
     "text": [
      "[nltk_data] Downloading package punkt to /home/darkknight/nltk_data...\n",
      "[nltk_data]   Unzipping tokenizers/punkt.zip.\n",
      "[nltk_data] Downloading package stopwords to\n",
      "[nltk_data]     /home/darkknight/nltk_data...\n",
      "[nltk_data]   Unzipping corpora/stopwords.zip.\n",
      "[nltk_data] Downloading package wordnet to\n",
      "[nltk_data]     /home/darkknight/nltk_data...\n",
      "[nltk_data] Downloading package averaged_perceptron_tagger to\n",
      "[nltk_data]     /home/darkknight/nltk_data...\n",
      "[nltk_data]   Unzipping taggers/averaged_perceptron_tagger.zip.\n"
     ]
    },
    {
     "data": {
      "text/plain": [
       "True"
      ]
     },
     "execution_count": 3,
     "metadata": {},
     "output_type": "execute_result"
    }
   ],
   "source": [
    "nltk.download('punkt')\n",
    "nltk.download('stopwords')\n",
    "nltk.download('wordnet')\n",
    "nltk.download('averaged_perceptron_tagger')"
   ]
  },
  {
   "cell_type": "code",
   "execution_count": 5,
   "id": "a8354f9a-1551-4aba-a13f-69ebb15b9061",
   "metadata": {},
   "outputs": [],
   "source": [
    "# Initialize the text\n",
    "text = \"Machine learning is a branch of artificial intelligence where algorithms learn patterns from data to make predictions or decisions without explicit programming. It encompasses supervised, unsupervised, and reinforcement learning techniques.\""
   ]
  },
  {
   "cell_type": "code",
   "execution_count": 6,
   "id": "8f022953-125b-4a62-b219-40a6bd219352",
   "metadata": {},
   "outputs": [
    {
     "name": "stdout",
     "output_type": "stream",
     "text": [
      "['Machine learning is a branch of artificial intelligence where algorithms learn patterns from data to make predictions or decisions without explicit programming.', 'It encompasses supervised, unsupervised, and reinforcement learning techniques.']\n"
     ]
    }
   ],
   "source": [
    "# Perform Tokenization\n",
    "# #Sentence Tokenization\n",
    "from nltk.tokenize import sent_tokenize\n",
    "tokenized_text= sent_tokenize(text)\n",
    "print(tokenized_text)"
   ]
  },
  {
   "cell_type": "code",
   "execution_count": 7,
   "id": "76e86722-064a-46f1-8a7e-22459be83a22",
   "metadata": {},
   "outputs": [
    {
     "name": "stdout",
     "output_type": "stream",
     "text": [
      "['Machine', 'learning', 'is', 'a', 'branch', 'of', 'artificial', 'intelligence', 'where', 'algorithms', 'learn', 'patterns', 'from', 'data', 'to', 'make', 'predictions', 'or', 'decisions', 'without', 'explicit', 'programming', '.', 'It', 'encompasses', 'supervised', ',', 'unsupervised', ',', 'and', 'reinforcement', 'learning', 'techniques', '.']\n"
     ]
    }
   ],
   "source": [
    "# Word Tokenization\n",
    "from nltk.tokenize import word_tokenize\n",
    "tokenized_word=word_tokenize(text)\n",
    "print(tokenized_word)"
   ]
  },
  {
   "cell_type": "code",
   "execution_count": 8,
   "id": "9b1c200b-40d2-4b2a-8ca9-554be2c30a34",
   "metadata": {},
   "outputs": [
    {
     "name": "stdout",
     "output_type": "stream",
     "text": [
      "{'hasn', \"you'll\", \"weren't\", 'didn', 'hers', 'wasn', 'hadn', 'i', 'down', 'she', 'on', 'ain', 'doesn', 'after', \"don't\", 'their', 'those', 'out', 'm', 'd', \"shan't\", 'itself', 'who', \"needn't\", 'until', 'couldn', \"hasn't\", 'mustn', 'being', 'having', 'his', \"didn't\", 'had', 'yourselves', 'was', 'only', 'shouldn', 'once', 'or', \"doesn't\", 'both', 'between', 'over', 'have', 'under', 're', 'theirs', 'why', 'himself', 'its', 'should', 'where', 'same', 'be', 'o', 'no', 'you', 'then', 'other', 'the', \"you'd\", 'few', \"you're\", 'very', \"it's\", 'myself', 'while', 'against', 'nor', \"won't\", 'if', 'any', 'before', 'mightn', 'how', 'not', \"haven't\", 'so', 'but', 'by', \"mightn't\", 'do', 'that', 'ma', 'during', 'are', 'and', 'off', 'yourself', 'am', 'yours', 'they', \"shouldn't\", 'own', 'were', 'herself', 'don', 'won', 'this', 'because', 'did', 'with', 'needn', 'for', 'he', \"she's\", 'which', 'haven', 'is', 'will', 'whom', \"isn't\", 'weren', \"wouldn't\", 'does', 'll', 'isn', 'my', 'been', 'an', 've', 'a', 'when', 'here', \"that'll\", 'at', \"wasn't\", 'ours', 'themselves', 'such', 'about', 'again', 'some', 'we', 'each', \"aren't\", \"mustn't\", 'up', 'into', \"couldn't\", 'these', 'can', 'now', 'to', 'what', 'our', 'them', 'her', 'further', 'above', 'y', \"hadn't\", 'in', 'more', 's', 'him', 'than', 'your', 'below', 'it', 'of', 'has', 'ourselves', 'just', 'aren', \"you've\", 't', 'too', 'me', 'all', 'most', 'shan', 'as', 'through', \"should've\", 'from', 'doing', 'there', 'wouldn'}\n"
     ]
    }
   ],
   "source": [
    "# nxt step Removing Punctuations and Stop Word\n",
    "# print stop words of English\n",
    "from nltk.corpus import stopwords\n",
    "stop_words=set(stopwords.words(\"english\"))\n",
    "print(stop_words)"
   ]
  },
  {
   "cell_type": "code",
   "execution_count": 9,
   "id": "24d2c6f8-cb11-4f24-8f1a-33c1d189b99e",
   "metadata": {},
   "outputs": [],
   "source": [
    "text= \"How to remove stop words with NLTK library in Python?\"\n",
    "import re\n",
    "text= re.sub('[^a-zA-Z]', ' ',text)"
   ]
  },
  {
   "cell_type": "code",
   "execution_count": 10,
   "id": "22800dbb-c9a6-424e-8046-b810eacf3b9f",
   "metadata": {},
   "outputs": [
    {
     "data": {
      "text/plain": [
       "'How to remove stop words with NLTK library in Python '"
      ]
     },
     "execution_count": 10,
     "metadata": {},
     "output_type": "execute_result"
    }
   ],
   "source": [
    "text"
   ]
  },
  {
   "cell_type": "code",
   "execution_count": 11,
   "id": "7688acfa-115e-411c-aa28-fd164ed6449b",
   "metadata": {},
   "outputs": [
    {
     "data": {
      "text/plain": [
       "['how',\n",
       " 'to',\n",
       " 'remove',\n",
       " 'stop',\n",
       " 'words',\n",
       " 'with',\n",
       " 'nltk',\n",
       " 'library',\n",
       " 'in',\n",
       " 'python']"
      ]
     },
     "execution_count": 11,
     "metadata": {},
     "output_type": "execute_result"
    }
   ],
   "source": [
    "tokens = word_tokenize(text.lower())\n",
    "tokens"
   ]
  },
  {
   "cell_type": "code",
   "execution_count": 12,
   "id": "72536788-7b85-43d5-978e-36eddf0077dd",
   "metadata": {},
   "outputs": [],
   "source": [
    "filtered_text = []\n",
    "for w in tokens:\n",
    "    if w not in stop_words:\n",
    "        filtered_text.append(w)"
   ]
  },
  {
   "cell_type": "code",
   "execution_count": 13,
   "id": "e743fec7-a658-4f28-8e81-bc0b37d6a908",
   "metadata": {},
   "outputs": [
    {
     "data": {
      "text/plain": [
       "['remove', 'stop', 'words', 'nltk', 'library', 'python']"
      ]
     },
     "execution_count": 13,
     "metadata": {},
     "output_type": "execute_result"
    }
   ],
   "source": [
    "filtered_text"
   ]
  },
  {
   "cell_type": "code",
   "execution_count": 17,
   "id": "ad9abc53-241c-4d5b-8fd0-1f90c9c96b52",
   "metadata": {},
   "outputs": [
    {
     "name": "stdout",
     "output_type": "stream",
     "text": [
      "cri\n"
     ]
    }
   ],
   "source": [
    "# nxt step perform stemming\n",
    "from nltk.stem import PorterStemmer\n",
    "e_words= [\"studies\", \"studying\", \"cries\", \"cry\"]\n",
    "ps =PorterStemmer()\n",
    "for w in e_words:\n",
    "    rootWord=ps.stem(w)\n",
    "print(rootWord)"
   ]
  },
  {
   "cell_type": "code",
   "execution_count": 18,
   "id": "c6be1f1e-137e-4001-a83c-3f66b35985be",
   "metadata": {},
   "outputs": [
    {
     "name": "stdout",
     "output_type": "stream",
     "text": [
      "Lemma for studies is study\n",
      "Lemma for studying is studying\n",
      "Lemma for cries is cry\n",
      "Lemma for cry is cry\n"
     ]
    }
   ],
   "source": [
    "# nxt step Perform Lemmatization\n",
    "from nltk.stem import WordNetLemmatizer\n",
    "wordnet_lemmatizer = WordNetLemmatizer()\n",
    "text = \"studies studying cries cry\"\n",
    "tokenization = nltk.word_tokenize(text)\n",
    "for w in tokenization:\n",
    "    print(\"Lemma for {} is {}\".format(w, wordnet_lemmatizer.lemmatize(w)))"
   ]
  },
  {
   "cell_type": "code",
   "execution_count": 20,
   "id": "c7a4d062-8b52-443f-b266-53e8a05ed3e6",
   "metadata": {},
   "outputs": [
    {
     "name": "stdout",
     "output_type": "stream",
     "text": [
      "[('The', 'DT')]\n",
      "[('black', 'JJ')]\n",
      "[('leather', 'NN')]\n",
      "[('jacket', 'NN')]\n",
      "[('fits', 'NNS')]\n",
      "[('him', 'PRP')]\n",
      "[('perfectly', 'RB')]\n"
     ]
    }
   ],
   "source": [
    "# nxt step Apply POS Tagging to text\n",
    "import nltk\n",
    "from nltk.tokenize import word_tokenize\n",
    "data=\"The black leather jacket fits him perfectly\"\n",
    "words=word_tokenize(data)\n",
    "for word in words:\n",
    "    print(nltk.pos_tag([word]))"
   ]
  },
  {
   "cell_type": "code",
   "execution_count": 21,
   "id": "36464a0f-5576-4286-b73f-ac0c84701627",
   "metadata": {},
   "outputs": [],
   "source": [
    "# 2. Create representation of document by calculating Term Frequency and Inverse Document Frequency.\n",
    "# Import the necessary libraries.\n",
    "import pandas as pd\n",
    "from sklearn.feature_extraction.text import TfidfVectorizer"
   ]
  },
  {
   "cell_type": "code",
   "execution_count": 22,
   "id": "db081412-1e7e-416e-bb1b-a45dccbafa5a",
   "metadata": {},
   "outputs": [],
   "source": [
    "# Initialize the Documents.\n",
    "documentA = 'Helium has the ability to work against gravity.'\n",
    "documentB = 'Water can exist in three states at the same time.'"
   ]
  },
  {
   "cell_type": "code",
   "execution_count": 23,
   "id": "c1ea077c-3f2d-4973-b626-0dcfe5d6d4a8",
   "metadata": {},
   "outputs": [],
   "source": [
    "# Create BagofWords (BoW) for Document A and B.\n",
    "bagOfWordsA = documentA.split(' ')\n",
    "bagOfWordsB = documentB.split(' ')"
   ]
  },
  {
   "cell_type": "code",
   "execution_count": 24,
   "id": "4f035513-574c-47bc-83b2-5f600f5f86dc",
   "metadata": {},
   "outputs": [],
   "source": [
    "# Create Collection of Unique words from Document A and B.\n",
    "uniqueWords = set(bagOfWordsA).union(set(bagOfWordsB))"
   ]
  },
  {
   "cell_type": "code",
   "execution_count": 25,
   "id": "89aa7b50-041b-459f-b02e-17d14878f204",
   "metadata": {},
   "outputs": [
    {
     "data": {
      "text/plain": [
       "{'Helium',\n",
       " 'Water',\n",
       " 'ability',\n",
       " 'against',\n",
       " 'at',\n",
       " 'can',\n",
       " 'exist',\n",
       " 'gravity.',\n",
       " 'has',\n",
       " 'in',\n",
       " 'same',\n",
       " 'states',\n",
       " 'the',\n",
       " 'three',\n",
       " 'time.',\n",
       " 'to',\n",
       " 'work'}"
      ]
     },
     "execution_count": 25,
     "metadata": {},
     "output_type": "execute_result"
    }
   ],
   "source": [
    "uniqueWords"
   ]
  },
  {
   "cell_type": "code",
   "execution_count": 26,
   "id": "d2b29fd5-71ad-4384-b3a6-d30fde307c9a",
   "metadata": {},
   "outputs": [],
   "source": [
    "# Create a dictionary of words and their occurrence for each document in the corpus\n",
    "numOfWordsA = dict.fromkeys(uniqueWords, 0)\n",
    "for word in bagOfWordsA:\n",
    "    numOfWordsA[word] += 1"
   ]
  },
  {
   "cell_type": "code",
   "execution_count": 28,
   "id": "1893294f-2206-405e-b3ff-ebd03c68842e",
   "metadata": {},
   "outputs": [
    {
     "data": {
      "text/plain": [
       "{'to': 1,\n",
       " 'Water': 0,\n",
       " 'work': 1,\n",
       " 'the': 1,\n",
       " 'at': 0,\n",
       " 'time.': 0,\n",
       " 'same': 0,\n",
       " 'three': 0,\n",
       " 'gravity.': 1,\n",
       " 'Helium': 1,\n",
       " 'has': 1,\n",
       " 'in': 0,\n",
       " 'exist': 0,\n",
       " 'can': 0,\n",
       " 'ability': 1,\n",
       " 'states': 0,\n",
       " 'against': 1}"
      ]
     },
     "execution_count": 28,
     "metadata": {},
     "output_type": "execute_result"
    }
   ],
   "source": [
    "numOfWordsA"
   ]
  },
  {
   "cell_type": "code",
   "execution_count": 27,
   "id": "771688fb-ebd9-47d8-9749-b1db42e0c1e9",
   "metadata": {},
   "outputs": [],
   "source": [
    "numOfWordsB = dict.fromkeys(uniqueWords, 0)\n",
    "for word in bagOfWordsB:\n",
    "    numOfWordsB[word] += 1"
   ]
  },
  {
   "cell_type": "code",
   "execution_count": 29,
   "id": "e1b1f4d3-ea22-48c4-96d7-358c537900ba",
   "metadata": {},
   "outputs": [
    {
     "data": {
      "text/plain": [
       "{'to': 0,\n",
       " 'Water': 1,\n",
       " 'work': 0,\n",
       " 'the': 1,\n",
       " 'at': 1,\n",
       " 'time.': 1,\n",
       " 'same': 1,\n",
       " 'three': 1,\n",
       " 'gravity.': 0,\n",
       " 'Helium': 0,\n",
       " 'has': 0,\n",
       " 'in': 1,\n",
       " 'exist': 1,\n",
       " 'can': 1,\n",
       " 'ability': 0,\n",
       " 'states': 1,\n",
       " 'against': 0}"
      ]
     },
     "execution_count": 29,
     "metadata": {},
     "output_type": "execute_result"
    }
   ],
   "source": [
    "numOfWordsB"
   ]
  },
  {
   "cell_type": "code",
   "execution_count": 36,
   "id": "7a1b37fb-52d2-42d4-8bb2-9d40a23c0ea2",
   "metadata": {},
   "outputs": [],
   "source": [
    "# Compute the term frequency for each of our documents.\n",
    "def computeTF(wordDict, bagOfWords):\n",
    "    TfDict = {}\n",
    "    bagOfWordsCount = len(bagOfWords)\n",
    "    for word, count in wordDict.items():\n",
    "        TfDict[word] = count / float(bagOfWordsCount)\n",
    "    return TfDict"
   ]
  },
  {
   "cell_type": "code",
   "execution_count": 37,
   "id": "e1956bae-be40-4a2c-a26d-26528f13c1af",
   "metadata": {},
   "outputs": [],
   "source": [
    "tfA = computeTF(numOfWordsA, bagOfWordsA)\n",
    "tfB = computeTF(numOfWordsB, bagOfWordsB)"
   ]
  },
  {
   "cell_type": "code",
   "execution_count": 38,
   "id": "6fbb2d1d-5734-4e40-a258-bef3730ca96a",
   "metadata": {},
   "outputs": [
    {
     "data": {
      "text/plain": [
       "{'to': 0.125,\n",
       " 'Water': 0.0,\n",
       " 'work': 0.125,\n",
       " 'the': 0.125,\n",
       " 'at': 0.0,\n",
       " 'time.': 0.0,\n",
       " 'same': 0.0,\n",
       " 'three': 0.0,\n",
       " 'gravity.': 0.125,\n",
       " 'Helium': 0.125,\n",
       " 'has': 0.125,\n",
       " 'in': 0.0,\n",
       " 'exist': 0.0,\n",
       " 'can': 0.0,\n",
       " 'ability': 0.125,\n",
       " 'states': 0.0,\n",
       " 'against': 0.125}"
      ]
     },
     "execution_count": 38,
     "metadata": {},
     "output_type": "execute_result"
    }
   ],
   "source": [
    "tfA"
   ]
  },
  {
   "cell_type": "code",
   "execution_count": 39,
   "id": "37c9521e-d2d1-4d37-a77c-2a4cc9068aff",
   "metadata": {},
   "outputs": [
    {
     "data": {
      "text/plain": [
       "{'to': 0.0,\n",
       " 'Water': 0.1,\n",
       " 'work': 0.0,\n",
       " 'the': 0.1,\n",
       " 'at': 0.1,\n",
       " 'time.': 0.1,\n",
       " 'same': 0.1,\n",
       " 'three': 0.1,\n",
       " 'gravity.': 0.0,\n",
       " 'Helium': 0.0,\n",
       " 'has': 0.0,\n",
       " 'in': 0.1,\n",
       " 'exist': 0.1,\n",
       " 'can': 0.1,\n",
       " 'ability': 0.0,\n",
       " 'states': 0.1,\n",
       " 'against': 0.0}"
      ]
     },
     "execution_count": 39,
     "metadata": {},
     "output_type": "execute_result"
    }
   ],
   "source": [
    "tfB"
   ]
  },
  {
   "cell_type": "code",
   "execution_count": 40,
   "id": "a381417a-d8da-4ef5-a68c-ecfb7f7a842a",
   "metadata": {},
   "outputs": [],
   "source": [
    "# Compute the term Inverse Document Frequency.\n",
    "def computeIDF(documents):\n",
    "    import math\n",
    "    N = len(documents)\n",
    "    idfDict = dict.fromkeys(documents[0].keys(), 0)\n",
    "    for document in documents:\n",
    "        for word, val in document.items():\n",
    "            if val > 0:\n",
    "                idfDict[word] += 1\n",
    "    for word, val in idfDict.items():\n",
    "        idfDict[word] = math.log(N / float(val))\n",
    "    return idfDict"
   ]
  },
  {
   "cell_type": "code",
   "execution_count": 41,
   "id": "aafea697-8b98-4f83-b559-e7c09310f0a0",
   "metadata": {},
   "outputs": [
    {
     "data": {
      "text/plain": [
       "{'to': 0.6931471805599453,\n",
       " 'Water': 0.6931471805599453,\n",
       " 'work': 0.6931471805599453,\n",
       " 'the': 0.0,\n",
       " 'at': 0.6931471805599453,\n",
       " 'time.': 0.6931471805599453,\n",
       " 'same': 0.6931471805599453,\n",
       " 'three': 0.6931471805599453,\n",
       " 'gravity.': 0.6931471805599453,\n",
       " 'Helium': 0.6931471805599453,\n",
       " 'has': 0.6931471805599453,\n",
       " 'in': 0.6931471805599453,\n",
       " 'exist': 0.6931471805599453,\n",
       " 'can': 0.6931471805599453,\n",
       " 'ability': 0.6931471805599453,\n",
       " 'states': 0.6931471805599453,\n",
       " 'against': 0.6931471805599453}"
      ]
     },
     "execution_count": 41,
     "metadata": {},
     "output_type": "execute_result"
    }
   ],
   "source": [
    "idfs = computeIDF([numOfWordsA, numOfWordsB])\n",
    "idfs"
   ]
  },
  {
   "cell_type": "code",
   "execution_count": 42,
   "id": "d8e5de8f-d4bf-453f-b2c3-f414c4856823",
   "metadata": {},
   "outputs": [],
   "source": [
    "# Compute the term TF/IDF for all words.\n",
    "def computeTFIDF(tfBagOfWords, idfs):\n",
    "    tfidf = {}\n",
    "    for word, val in tfBagOfWords.items():\n",
    "        tfidf[word] = val * idfs[word]\n",
    "    return tfidf"
   ]
  },
  {
   "cell_type": "code",
   "execution_count": 43,
   "id": "e97860c8-f8df-45f2-8c8f-6b8d4749fead",
   "metadata": {},
   "outputs": [],
   "source": [
    "tfidfA = computeTFIDF(tfA, idfs)"
   ]
  },
  {
   "cell_type": "code",
   "execution_count": 44,
   "id": "8a5005ad-654a-40e0-add3-7f93288553d3",
   "metadata": {},
   "outputs": [],
   "source": [
    "tfidfB = computeTFIDF(tfB, idfs)"
   ]
  },
  {
   "cell_type": "code",
   "execution_count": 46,
   "id": "2b541059-5dff-4efa-8b61-82acd1435e0b",
   "metadata": {},
   "outputs": [
    {
     "data": {
      "text/plain": [
       "{'to': 0.08664339756999316,\n",
       " 'Water': 0.0,\n",
       " 'work': 0.08664339756999316,\n",
       " 'the': 0.0,\n",
       " 'at': 0.0,\n",
       " 'time.': 0.0,\n",
       " 'same': 0.0,\n",
       " 'three': 0.0,\n",
       " 'gravity.': 0.08664339756999316,\n",
       " 'Helium': 0.08664339756999316,\n",
       " 'has': 0.08664339756999316,\n",
       " 'in': 0.0,\n",
       " 'exist': 0.0,\n",
       " 'can': 0.0,\n",
       " 'ability': 0.08664339756999316,\n",
       " 'states': 0.0,\n",
       " 'against': 0.08664339756999316}"
      ]
     },
     "execution_count": 46,
     "metadata": {},
     "output_type": "execute_result"
    }
   ],
   "source": [
    "tfidfA"
   ]
  },
  {
   "cell_type": "code",
   "execution_count": 47,
   "id": "2b07a2e3-c2c3-4e40-a133-a724d3b9ea0f",
   "metadata": {},
   "outputs": [
    {
     "data": {
      "text/plain": [
       "{'to': 0.0,\n",
       " 'Water': 0.06931471805599453,\n",
       " 'work': 0.0,\n",
       " 'the': 0.0,\n",
       " 'at': 0.06931471805599453,\n",
       " 'time.': 0.06931471805599453,\n",
       " 'same': 0.06931471805599453,\n",
       " 'three': 0.06931471805599453,\n",
       " 'gravity.': 0.0,\n",
       " 'Helium': 0.0,\n",
       " 'has': 0.0,\n",
       " 'in': 0.06931471805599453,\n",
       " 'exist': 0.06931471805599453,\n",
       " 'can': 0.06931471805599453,\n",
       " 'ability': 0.0,\n",
       " 'states': 0.06931471805599453,\n",
       " 'against': 0.0}"
      ]
     },
     "execution_count": 47,
     "metadata": {},
     "output_type": "execute_result"
    }
   ],
   "source": [
    "tfidfB "
   ]
  },
  {
   "cell_type": "code",
   "execution_count": 48,
   "id": "ead74d67-dc6d-4e81-b1a3-6d1f8e2ac36d",
   "metadata": {},
   "outputs": [],
   "source": [
    "df = pd.DataFrame([tfidfA, tfidfB])"
   ]
  },
  {
   "cell_type": "code",
   "execution_count": 49,
   "id": "8efadd1e-67b7-41ca-9db7-2d8d25c1173e",
   "metadata": {},
   "outputs": [
    {
     "data": {
      "text/html": [
       "<div>\n",
       "<style scoped>\n",
       "    .dataframe tbody tr th:only-of-type {\n",
       "        vertical-align: middle;\n",
       "    }\n",
       "\n",
       "    .dataframe tbody tr th {\n",
       "        vertical-align: top;\n",
       "    }\n",
       "\n",
       "    .dataframe thead th {\n",
       "        text-align: right;\n",
       "    }\n",
       "</style>\n",
       "<table border=\"1\" class=\"dataframe\">\n",
       "  <thead>\n",
       "    <tr style=\"text-align: right;\">\n",
       "      <th></th>\n",
       "      <th>to</th>\n",
       "      <th>Water</th>\n",
       "      <th>work</th>\n",
       "      <th>the</th>\n",
       "      <th>at</th>\n",
       "      <th>time.</th>\n",
       "      <th>same</th>\n",
       "      <th>three</th>\n",
       "      <th>gravity.</th>\n",
       "      <th>Helium</th>\n",
       "      <th>has</th>\n",
       "      <th>in</th>\n",
       "      <th>exist</th>\n",
       "      <th>can</th>\n",
       "      <th>ability</th>\n",
       "      <th>states</th>\n",
       "      <th>against</th>\n",
       "    </tr>\n",
       "  </thead>\n",
       "  <tbody>\n",
       "    <tr>\n",
       "      <th>0</th>\n",
       "      <td>0.086643</td>\n",
       "      <td>0.000000</td>\n",
       "      <td>0.086643</td>\n",
       "      <td>0.0</td>\n",
       "      <td>0.000000</td>\n",
       "      <td>0.000000</td>\n",
       "      <td>0.000000</td>\n",
       "      <td>0.000000</td>\n",
       "      <td>0.086643</td>\n",
       "      <td>0.086643</td>\n",
       "      <td>0.086643</td>\n",
       "      <td>0.000000</td>\n",
       "      <td>0.000000</td>\n",
       "      <td>0.000000</td>\n",
       "      <td>0.086643</td>\n",
       "      <td>0.000000</td>\n",
       "      <td>0.086643</td>\n",
       "    </tr>\n",
       "    <tr>\n",
       "      <th>1</th>\n",
       "      <td>0.000000</td>\n",
       "      <td>0.069315</td>\n",
       "      <td>0.000000</td>\n",
       "      <td>0.0</td>\n",
       "      <td>0.069315</td>\n",
       "      <td>0.069315</td>\n",
       "      <td>0.069315</td>\n",
       "      <td>0.069315</td>\n",
       "      <td>0.000000</td>\n",
       "      <td>0.000000</td>\n",
       "      <td>0.000000</td>\n",
       "      <td>0.069315</td>\n",
       "      <td>0.069315</td>\n",
       "      <td>0.069315</td>\n",
       "      <td>0.000000</td>\n",
       "      <td>0.069315</td>\n",
       "      <td>0.000000</td>\n",
       "    </tr>\n",
       "  </tbody>\n",
       "</table>\n",
       "</div>"
      ],
      "text/plain": [
       "         to     Water      work  the        at     time.      same     three  \\\n",
       "0  0.086643  0.000000  0.086643  0.0  0.000000  0.000000  0.000000  0.000000   \n",
       "1  0.000000  0.069315  0.000000  0.0  0.069315  0.069315  0.069315  0.069315   \n",
       "\n",
       "   gravity.    Helium       has        in     exist       can   ability  \\\n",
       "0  0.086643  0.086643  0.086643  0.000000  0.000000  0.000000  0.086643   \n",
       "1  0.000000  0.000000  0.000000  0.069315  0.069315  0.069315  0.000000   \n",
       "\n",
       "     states   against  \n",
       "0  0.000000  0.086643  \n",
       "1  0.069315  0.000000  "
      ]
     },
     "execution_count": 49,
     "metadata": {},
     "output_type": "execute_result"
    }
   ],
   "source": [
    "df"
   ]
  }
 ],
 "metadata": {
  "kernelspec": {
   "display_name": "Python 3 (ipykernel)",
   "language": "python",
   "name": "python3"
  },
  "language_info": {
   "codemirror_mode": {
    "name": "ipython",
    "version": 3
   },
   "file_extension": ".py",
   "mimetype": "text/x-python",
   "name": "python",
   "nbconvert_exporter": "python",
   "pygments_lexer": "ipython3",
   "version": "3.11.7"
  }
 },
 "nbformat": 4,
 "nbformat_minor": 5
}
